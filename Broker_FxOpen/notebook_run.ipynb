{
 "cells": [
  {
   "cell_type": "code",
   "execution_count": 1,
   "id": "61b15ea7",
   "metadata": {},
   "outputs": [
    {
     "name": "stdout",
     "output_type": "stream",
     "text": [
      "Fetching data for MCO\n",
      "Granularity: H1\n",
      "MCO H1   >> fetching 900 candles since: 2025-03-25 00:00:00   >> got 2025-03-25 13:00:00  until  2025-08-18 15:00:00   >> total: 701 candles\n",
      "collect_candles() saving candles locally.\n",
      "*** SAVED MCO_H1 hist quotes   >> from: 2025-03-25 13:00:00   >> to: 2025-03-28 19:00:00 --> total: 28 candles ***\n",
      "Quotes saved for MCO_H1, took 0 minutes.\n"
     ]
    }
   ],
   "source": [
    "from get_quotes import get_hist_quotes\n",
    "from api import FxApi\n",
    "\n",
    "\n",
    "if __name__ == '__main__':\n",
    "    fx_api = FxApi()\n",
    "\n",
    "    symbol_lst      = ['MCO']\n",
    "    granularity_lst = ['H1']\n",
    "    date_start      = '2025-03-25T00:00:00'\n",
    "    date_end        = '2025-03-29T00:00:00'\n",
    "\n",
    "    get_hist_quotes(symbol_lst, granularity_lst, date_start, date_end, fx_api)"
   ]
  },
  {
   "cell_type": "code",
   "execution_count": null,
   "id": "e211a7b3",
   "metadata": {},
   "outputs": [],
   "source": []
  },
  {
   "cell_type": "code",
   "execution_count": null,
   "id": "1ca890cd",
   "metadata": {},
   "outputs": [],
   "source": []
  }
 ],
 "metadata": {
  "kernelspec": {
   "display_name": ".venv",
   "language": "python",
   "name": "python3"
  },
  "language_info": {
   "codemirror_mode": {
    "name": "ipython",
    "version": 3
   },
   "file_extension": ".py",
   "mimetype": "text/x-python",
   "name": "python",
   "nbconvert_exporter": "python",
   "pygments_lexer": "ipython3",
   "version": "3.13.7"
  }
 },
 "nbformat": 4,
 "nbformat_minor": 5
}
