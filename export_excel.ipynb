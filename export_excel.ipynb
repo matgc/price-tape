{
 "cells": [
  {
   "cell_type": "code",
   "execution_count": 1,
   "id": "76bfc4d4",
   "metadata": {},
   "outputs": [],
   "source": [
    "import pandas as pd\n",
    "from dateutil import parser\n"
   ]
  },
  {
   "cell_type": "markdown",
   "id": "8d932008",
   "metadata": {},
   "source": [
    "### **1. GET THE DF**"
   ]
  },
  {
   "cell_type": "code",
   "execution_count": 2,
   "id": "72130a2e",
   "metadata": {},
   "outputs": [],
   "source": [
    "broker = 'Oanda'\n",
    "symbol = 'EUR_USD'\n",
    "granularity = 'H1'\n",
    "df = pd.read_pickle(f'Broker_{broker}/hist_quotes/{symbol}_{granularity}.pkl')"
   ]
  },
  {
   "cell_type": "markdown",
   "id": "2bc50e7c",
   "metadata": {},
   "source": [
    "### **2. FORMAT DATE**"
   ]
  },
  {
   "cell_type": "code",
   "execution_count": 3,
   "id": "1d732fa4",
   "metadata": {},
   "outputs": [],
   "source": [
    "df['time'] = df['time'].dt.tz_localize(None)"
   ]
  },
  {
   "cell_type": "markdown",
   "id": "0efb25e2",
   "metadata": {},
   "source": [
    "### **3. SLICE DATA (Optional)**\n",
    "**Remember: excel's rows cap is 1,048,576*"
   ]
  },
  {
   "cell_type": "code",
   "execution_count": 4,
   "id": "6881b141",
   "metadata": {},
   "outputs": [],
   "source": [
    "will_slice  = False\n",
    "start_date  = parser.parse('2025-03-26T00:00:00') #Change as needed\n",
    "end_date    = parser.parse('2025-03-27T00:00:00') #Change as needed\n",
    "\n",
    "df_slice = df[(df['time']>=start_date)&(df['time']<=end_date)] if will_slice else df"
   ]
  },
  {
   "cell_type": "markdown",
   "id": "dddbee9f",
   "metadata": {},
   "source": [
    "### **4. EXPORT TO EXCEL**"
   ]
  },
  {
   "cell_type": "code",
   "execution_count": 5,
   "id": "5021f496",
   "metadata": {},
   "outputs": [],
   "source": [
    "df_slice.to_excel(f'./hist_quotes_excel/{symbol}_{granularity}.xlsx', index=False)"
   ]
  },
  {
   "cell_type": "code",
   "execution_count": null,
   "id": "673201bf",
   "metadata": {},
   "outputs": [],
   "source": []
  },
  {
   "cell_type": "code",
   "execution_count": null,
   "id": "6e081fd8",
   "metadata": {},
   "outputs": [],
   "source": []
  },
  {
   "cell_type": "code",
   "execution_count": null,
   "id": "d3c55d25",
   "metadata": {},
   "outputs": [],
   "source": []
  }
 ],
 "metadata": {
  "kernelspec": {
   "display_name": ".venv",
   "language": "python",
   "name": "python3"
  },
  "language_info": {
   "codemirror_mode": {
    "name": "ipython",
    "version": 3
   },
   "file_extension": ".py",
   "mimetype": "text/x-python",
   "name": "python",
   "nbconvert_exporter": "python",
   "pygments_lexer": "ipython3",
   "version": "3.13.3"
  }
 },
 "nbformat": 4,
 "nbformat_minor": 5
}
