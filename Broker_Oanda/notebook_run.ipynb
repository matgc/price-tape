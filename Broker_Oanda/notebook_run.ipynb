{
 "cells": [
  {
   "cell_type": "code",
   "execution_count": 1,
   "id": "3bb5c603",
   "metadata": {},
   "outputs": [
    {
     "name": "stdout",
     "output_type": "stream",
     "text": [
      "Fetching data for EUR_USD\n",
      "Granularity: H1\n",
      "EUR_USD H1   >> fetching 3000 candles since: 2025-03-25 00:00:00+00:00   >> got 2025-03-25 00:00:00+00:00  until  2025-07-27 23:00:00+00:00   >> total: 2136 candles\n",
      "collect_candles() saving candles locally.\n",
      "*** SAVED EUR_USD_H1 hist quotes   >> from: 2025-03-25 00:00:00+00:00   >> to: 2025-03-28 20:00:00+00:00 --> total: 93 candles ***\n",
      "Quotes saved for EUR_USD_H1, took 0 minutes.\n"
     ]
    }
   ],
   "source": [
    "from get_quotes import get_hist_quotes\n",
    "from api import OandaApi\n",
    "\n",
    "\n",
    "if __name__ == '__main__':\n",
    "    api = OandaApi()\n",
    "\n",
    "    symbol_lst      = ['EUR_USD']           \n",
    "    granularity_lst = ['H1']\n",
    "    date_start      = '2025-03-25T00:00:00'\n",
    "    date_end        = '2025-03-29T00:00:00'\n",
    "\n",
    "    get_hist_quotes(symbol_lst, granularity_lst, date_start, date_end, api)"
   ]
  },
  {
   "cell_type": "code",
   "execution_count": null,
   "id": "1a8adbb2",
   "metadata": {},
   "outputs": [],
   "source": []
  },
  {
   "cell_type": "code",
   "execution_count": null,
   "id": "b73f6c5a",
   "metadata": {},
   "outputs": [],
   "source": []
  }
 ],
 "metadata": {
  "kernelspec": {
   "display_name": ".venv",
   "language": "python",
   "name": "python3"
  },
  "language_info": {
   "codemirror_mode": {
    "name": "ipython",
    "version": 3
   },
   "file_extension": ".py",
   "mimetype": "text/x-python",
   "name": "python",
   "nbconvert_exporter": "python",
   "pygments_lexer": "ipython3",
   "version": "3.13.7"
  }
 },
 "nbformat": 4,
 "nbformat_minor": 5
}
